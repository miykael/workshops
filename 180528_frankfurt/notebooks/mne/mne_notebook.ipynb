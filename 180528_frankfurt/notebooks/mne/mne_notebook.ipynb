{
 "cells": [
  {
   "cell_type": "code",
   "execution_count": null,
   "metadata": {
    "collapsed": true
   },
   "outputs": [],
   "source": [
    "%matplotlib notebook\n",
    "import mne\n",
    "import matplotlib.pyplot as plt\n",
    "\n",
    "fname = \"oddball_example-raw.fif\""
   ]
  },
  {
   "cell_type": "markdown",
   "metadata": {},
   "source": [
    "# Read in raw data; raw objects"
   ]
  },
  {
   "cell_type": "code",
   "execution_count": null,
   "metadata": {
    "collapsed": true
   },
   "outputs": [],
   "source": [
    "raw = mne.io.read_raw_fif(fname)"
   ]
  },
  {
   "cell_type": "markdown",
   "metadata": {},
   "source": [
    "MNE is *object oriented*. Objects have corresponding methods. Check which by typing `raw.` and pressing TAB:"
   ]
  },
  {
   "cell_type": "code",
   "execution_count": null,
   "metadata": {
    "collapsed": true
   },
   "outputs": [],
   "source": [
    "raw."
   ]
  },
  {
   "cell_type": "markdown",
   "metadata": {},
   "source": [
    "    raw.resample\n",
    "    raw.filter\n",
    "    raw.drop_channels\n",
    "    ..."
   ]
  },
  {
   "cell_type": "markdown",
   "metadata": {},
   "source": [
    "Can we do further preprocessing?.."
   ]
  },
  {
   "cell_type": "code",
   "execution_count": null,
   "metadata": {
    "collapsed": true
   },
   "outputs": [],
   "source": [
    "raw.filter(1, 20)"
   ]
  },
  {
   "cell_type": "markdown",
   "metadata": {},
   "source": [
    "Aha! By default, MNE does not store raw and epochs objects in memory."
   ]
  },
  {
   "cell_type": "code",
   "execution_count": null,
   "metadata": {
    "collapsed": true
   },
   "outputs": [],
   "source": [
    "raw = mne.io.read_raw_fif(fname, preload=True)"
   ]
  },
  {
   "cell_type": "code",
   "execution_count": null,
   "metadata": {
    "collapsed": true
   },
   "outputs": [],
   "source": [
    "raw.filter(1, 20)"
   ]
  },
  {
   "cell_type": "markdown",
   "metadata": {},
   "source": [
    "Inspecting raw data ..."
   ]
  },
  {
   "cell_type": "code",
   "execution_count": null,
   "metadata": {
    "collapsed": true
   },
   "outputs": [],
   "source": [
    "raw.plot();"
   ]
  },
  {
   "cell_type": "markdown",
   "metadata": {},
   "source": [
    "There are many eog artefacts. We will use ICA to correct these. For this, we create an ICA object\n",
    "and use its `.fit` method on a filtered copy of the raw data:"
   ]
  },
  {
   "cell_type": "code",
   "execution_count": null,
   "metadata": {
    "collapsed": true
   },
   "outputs": [],
   "source": [
    "ica = mne.preprocessing.ICA(n_components=20, random_state=0)"
   ]
  },
  {
   "cell_type": "code",
   "execution_count": null,
   "metadata": {
    "collapsed": true
   },
   "outputs": [],
   "source": [
    "ica.fit(raw.copy().filter(8, 35))"
   ]
  },
  {
   "cell_type": "code",
   "execution_count": null,
   "metadata": {
    "collapsed": true
   },
   "outputs": [],
   "source": [
    "ica.plot_components(outlines=\"skirt\");"
   ]
  },
  {
   "cell_type": "markdown",
   "metadata": {},
   "source": [
    "We store \"bad\" components in the ica object."
   ]
  },
  {
   "cell_type": "code",
   "execution_count": null,
   "metadata": {
    "collapsed": true
   },
   "outputs": [],
   "source": [
    "ica.exclude = [0, 9, 14, 15, 17, 18, 19]"
   ]
  },
  {
   "cell_type": "markdown",
   "metadata": {},
   "source": [
    "Let's compare raw and corrected data ..."
   ]
  },
  {
   "cell_type": "code",
   "execution_count": null,
   "metadata": {
    "collapsed": true
   },
   "outputs": [],
   "source": [
    "raw.plot();"
   ]
  },
  {
   "cell_type": "code",
   "execution_count": null,
   "metadata": {
    "collapsed": true
   },
   "outputs": [],
   "source": [
    "ica.apply(raw.copy(), exclude=ica.exclude).plot();"
   ]
  },
  {
   "cell_type": "markdown",
   "metadata": {},
   "source": [
    "## Epochs"
   ]
  },
  {
   "cell_type": "markdown",
   "metadata": {},
   "source": [
    "For epoching the data, we need event markers. Usually, these are stored in the `raw` object;\n",
    "in MNE, in a stimulus channel."
   ]
  },
  {
   "cell_type": "code",
   "execution_count": null,
   "metadata": {
    "collapsed": true
   },
   "outputs": [],
   "source": [
    "events = mne.find_events(raw)"
   ]
  },
  {
   "cell_type": "markdown",
   "metadata": {},
   "source": [
    "`events` is simply an array (time in samples, zero, trigger);"
   ]
  },
  {
   "cell_type": "code",
   "execution_count": null,
   "metadata": {
    "collapsed": true
   },
   "outputs": [],
   "source": [
    "events"
   ]
  },
  {
   "cell_type": "code",
   "execution_count": null,
   "metadata": {
    "collapsed": true
   },
   "outputs": [],
   "source": [
    "mne.viz.plot_events(events[:100]);"
   ]
  },
  {
   "cell_type": "markdown",
   "metadata": {},
   "source": [
    "For creating an `mne.Epochs` object, we require, in addition to the `raw` object and the `events` array, a dictionary of the intended condition names and the corresponding trigger numbers."
   ]
  },
  {
   "cell_type": "code",
   "execution_count": null,
   "metadata": {
    "collapsed": true
   },
   "outputs": [],
   "source": [
    "event_ids = {\"standard/stimulus\": 200, \"target/stimulus\": 100}\n",
    "\n",
    "epochs = mne.Epochs(raw, events, event_id=event_ids)"
   ]
  },
  {
   "cell_type": "code",
   "execution_count": null,
   "metadata": {
    "collapsed": true
   },
   "outputs": [],
   "source": [
    "epochs.plot();"
   ]
  },
  {
   "cell_type": "code",
   "execution_count": null,
   "metadata": {
    "collapsed": true
   },
   "outputs": [],
   "source": [
    "%matplotlib inline"
   ]
  },
  {
   "cell_type": "code",
   "execution_count": null,
   "metadata": {
    "collapsed": true
   },
   "outputs": [],
   "source": [
    "epochs = ica.apply(epochs, exclude=ica.exclude)"
   ]
  },
  {
   "cell_type": "markdown",
   "metadata": {},
   "source": [
    "Of course ..."
   ]
  },
  {
   "cell_type": "code",
   "execution_count": null,
   "metadata": {
    "collapsed": true
   },
   "outputs": [],
   "source": [
    "epochs = mne.Epochs(raw, events, event_id=event_ids, preload=True)\n",
    "epochs = ica.apply(epochs, exclude=ica.exclude)"
   ]
  },
  {
   "cell_type": "markdown",
   "metadata": {},
   "source": [
    "The `mne.Epochs` constructor has a number of options, such as time window lengths and rejection thresholds.\n",
    "Investigate them on your own."
   ]
  },
  {
   "cell_type": "markdown",
   "metadata": {},
   "source": [
    "`Epochs` objects also have various methods, different from `raw` objects - e.g., for baselining."
   ]
  },
  {
   "cell_type": "code",
   "execution_count": null,
   "metadata": {
    "collapsed": true
   },
   "outputs": [],
   "source": [
    "epochs.apply_baseline((None, 0))"
   ]
  },
  {
   "cell_type": "markdown",
   "metadata": {},
   "source": [
    "... and many more ..."
   ]
  },
  {
   "cell_type": "code",
   "execution_count": null,
   "metadata": {
    "collapsed": true
   },
   "outputs": [],
   "source": [
    "epochs."
   ]
  },
  {
   "cell_type": "markdown",
   "metadata": {},
   "source": [
    "To subselect only a sample of epochs, a dict-like access mode is available."
   ]
  },
  {
   "cell_type": "code",
   "execution_count": null,
   "metadata": {
    "collapsed": true
   },
   "outputs": [],
   "source": [
    "epochs[\"target\"]"
   ]
  },
  {
   "cell_type": "markdown",
   "metadata": {},
   "source": [
    "Observe how tags selected by forward slashes - \"/\" - work."
   ]
  },
  {
   "cell_type": "code",
   "execution_count": null,
   "metadata": {
    "collapsed": true
   },
   "outputs": [],
   "source": [
    "epochs[\"stimulus\"]"
   ]
  },
  {
   "cell_type": "code",
   "execution_count": null,
   "metadata": {
    "collapsed": true
   },
   "outputs": [],
   "source": [
    "epochs[\"target\"].plot_image(picks=[13]);"
   ]
  },
  {
   "cell_type": "markdown",
   "metadata": {},
   "source": [
    "## Evokeds"
   ]
  },
  {
   "cell_type": "markdown",
   "metadata": {},
   "source": [
    "Finally, if we average an epoched dataset over trials, we can use the `mne.Evoked` object."
   ]
  },
  {
   "cell_type": "code",
   "execution_count": null,
   "metadata": {
    "collapsed": true
   },
   "outputs": [],
   "source": [
    "target = epochs[\"target\"].average()\n",
    "target"
   ]
  },
  {
   "cell_type": "code",
   "execution_count": null,
   "metadata": {
    "collapsed": true
   },
   "outputs": [],
   "source": [
    "standard = epochs[\"standard\"].average()"
   ]
  },
  {
   "cell_type": "markdown",
   "metadata": {},
   "source": [
    "To quickly investigate evoked activity, the `Evoked` object has a number of plotting functions available."
   ]
  },
  {
   "cell_type": "code",
   "execution_count": null,
   "metadata": {
    "collapsed": true
   },
   "outputs": [],
   "source": [
    "target.plot_joint();"
   ]
  },
  {
   "cell_type": "markdown",
   "metadata": {},
   "source": [
    "For condition contrasts, you can use `mne.combine.evoked`:"
   ]
  },
  {
   "cell_type": "code",
   "execution_count": null,
   "metadata": {
    "collapsed": true
   },
   "outputs": [],
   "source": [
    "mne.combine_evoked((target, standard), weights=(.5, -.5)).plot_joint(times=.35);"
   ]
  },
  {
   "cell_type": "markdown",
   "metadata": {},
   "source": [
    "To contrast multiple conditions, `mne.viz.plot_compare_evokeds` is available:"
   ]
  },
  {
   "cell_type": "code",
   "execution_count": null,
   "metadata": {
    "collapsed": true
   },
   "outputs": [],
   "source": [
    "mne.viz.plot_compare_evokeds({\"target\": target, \"standard\": standard},\n",
    "                             picks=[21, 22, 23], truncate_yaxis=True);"
   ]
  },
  {
   "cell_type": "markdown",
   "metadata": {},
   "source": [
    "## MVPA/decoding"
   ]
  },
  {
   "cell_type": "markdown",
   "metadata": {},
   "source": [
    "Can we predict trial type from EEG activity?"
   ]
  },
  {
   "cell_type": "code",
   "execution_count": null,
   "metadata": {
    "collapsed": true
   },
   "outputs": [],
   "source": [
    "from sklearn.svm import LinearSVC\n",
    "from sklearn.preprocessing import StandardScaler\n",
    "from sklearn.pipeline import make_pipeline\n",
    "from sklearn.model_selection import cross_val_score"
   ]
  },
  {
   "cell_type": "markdown",
   "metadata": {},
   "source": [
    "To speed up and simplify things, we balance the epochs counts for the two trials."
   ]
  },
  {
   "cell_type": "code",
   "execution_count": null,
   "metadata": {
    "collapsed": true
   },
   "outputs": [],
   "source": [
    "epochs.equalize_event_counts(event_ids);"
   ]
  },
  {
   "cell_type": "code",
   "execution_count": null,
   "metadata": {
    "collapsed": true
   },
   "outputs": [],
   "source": [
    "epochs"
   ]
  },
  {
   "cell_type": "code",
   "execution_count": null,
   "metadata": {
    "collapsed": true
   },
   "outputs": [],
   "source": [
    "epochs.pick_types(eeg=True)\n",
    "X = epochs.get_data()  # features\n",
    "y = epochs.events[:, -1] == event_ids[\"target/stimulus\"]  # targets\n",
    "X.shape, y.shape"
   ]
  },
  {
   "cell_type": "markdown",
   "metadata": {},
   "source": [
    "X has the wrong shape - `samples`, `channels`, `times`, should be `samples`, `features`.\n",
    "\n",
    "We can use `mne.decoding.Vectorizer` to correctly shape the data. It fits right into a scikit-learn pipeline."
   ]
  },
  {
   "cell_type": "code",
   "execution_count": null,
   "metadata": {
    "collapsed": true
   },
   "outputs": [],
   "source": [
    "from mne.decoding import Vectorizer\n",
    "clf = make_pipeline(Vectorizer(), StandardScaler(), LinearSVC(class_weight=\"balanced\"))"
   ]
  },
  {
   "cell_type": "code",
   "execution_count": null,
   "metadata": {
    "collapsed": true
   },
   "outputs": [],
   "source": [
    "cross_val_score(clf, X, y)  # accuracy"
   ]
  },
  {
   "cell_type": "markdown",
   "metadata": {},
   "source": [
    "At which time points in the trial is there information about trial category?\n",
    "\n",
    "We need two more tools for this: one to train and score at each time point, and one to handle the cross-validated scoring for the former."
   ]
  },
  {
   "cell_type": "code",
   "execution_count": null,
   "metadata": {
    "collapsed": true
   },
   "outputs": [],
   "source": [
    "from mne.decoding import SlidingEstimator, cross_val_multiscore\n",
    "sl = SlidingEstimator(clf)"
   ]
  },
  {
   "cell_type": "code",
   "execution_count": null,
   "metadata": {
    "collapsed": true
   },
   "outputs": [],
   "source": [
    "scores_time_decoding = cross_val_multiscore(sl, X, y)"
   ]
  },
  {
   "cell_type": "code",
   "execution_count": null,
   "metadata": {
    "collapsed": true
   },
   "outputs": [],
   "source": [
    "scores_time_decoding.shape"
   ]
  },
  {
   "cell_type": "code",
   "execution_count": null,
   "metadata": {
    "collapsed": true
   },
   "outputs": [],
   "source": [
    "fig, ax = plt.subplots()\n",
    "ax.plot(epochs.times, scores_time_decoding.mean(0))\n",
    "plt.show()"
   ]
  },
  {
   "cell_type": "markdown",
   "metadata": {},
   "source": [
    "But is the same thing happening at each time point? We can investigate that with generalization across time decoding."
   ]
  },
  {
   "cell_type": "code",
   "execution_count": null,
   "metadata": {
    "collapsed": true
   },
   "outputs": [],
   "source": [
    "from mne.decoding import GeneralizingEstimator\n",
    "gen = GeneralizingEstimator(clf)\n",
    "scores_gat = cross_val_multiscore(gen, X, y)"
   ]
  },
  {
   "cell_type": "code",
   "execution_count": null,
   "metadata": {
    "collapsed": true
   },
   "outputs": [],
   "source": [
    "scores_gat.shape"
   ]
  },
  {
   "cell_type": "code",
   "execution_count": null,
   "metadata": {
    "collapsed": true
   },
   "outputs": [],
   "source": [
    "import numpy as np\n",
    "data = scores_gat.mean(0)\n",
    "vmax = np.abs(data).max()\n",
    "tmin, tmax = epochs.times[[0, -1]]\n",
    "\n",
    "fig, ax = plt.subplots()\n",
    "im = ax.imshow(\n",
    "    data,\n",
    "    origin=\"lower\", cmap=\"RdBu_r\",\n",
    "    extent=(tmin, tmax, tmin, tmax),\n",
    "    vmax=vmax, vmin=1-vmax);\n",
    "\n",
    "plt.colorbar(im)"
   ]
  },
  {
   "cell_type": "markdown",
   "metadata": {},
   "source": [
    "... also see Jona's talk:\n",
    "\n",
    "\n",
    "**Talk session: Language** (02/0090)\n",
    "\n",
    "**17:45 - Decoding the P600: MVPA evidence for shared neural patterns underlying Oddball and syntactic violation processing**\n",
    "\n",
    "        Jona Sassenhagen & Christian J. Fiebach\n",
    "\n",
    "Dejan's poster:\n",
    "\n",
    "**Perception II**\n",
    "\n",
    "**T-1-22 - Investigating the temporal dynamics of object-scene integration using MVPA: The role of the N300/N400 complex in object perception**\n",
    "\n",
    "        Dejan Draschkow, Edvard Aslak Heikel, Melissa L.-H. Võ, Christian J Fiebach & Jona Sassenhagen\n",
    "\n",
    "And:\n",
    "\n",
    "**Language**\n",
    "\n",
    "**T-1-15 - Inability to decode predictable semantic categories from EEG during silent pauses in spoken language**\n",
    "\n",
    "        Edvard Aslak Heikel, Jona Sassenhagen & Christian J. Fiebach\n",
    "        \n",
    "\n"
   ]
  },
  {
   "cell_type": "markdown",
   "metadata": {},
   "source": [
    "## Time-Frequency stuff"
   ]
  },
  {
   "cell_type": "markdown",
   "metadata": {},
   "source": [
    "For an overview over the spectral shape of the data, we can use a plotting method of `raw`, `raw.plot_psd`:"
   ]
  },
  {
   "cell_type": "code",
   "execution_count": null,
   "metadata": {
    "collapsed": true
   },
   "outputs": [],
   "source": [
    "raw.plot_psd(fmin=1, fmax=20);"
   ]
  },
  {
   "cell_type": "markdown",
   "metadata": {},
   "source": [
    "But what about the time/frequency correlates of the Oddball effect?\n",
    "\n",
    "We will extract power per time and frequency with Morlet wavelets."
   ]
  },
  {
   "cell_type": "code",
   "execution_count": null,
   "metadata": {
    "collapsed": true
   },
   "outputs": [],
   "source": [
    "from mne.time_frequency import tfr_morlet"
   ]
  },
  {
   "cell_type": "code",
   "execution_count": null,
   "metadata": {
    "collapsed": true
   },
   "outputs": [],
   "source": [
    "epochs_for_tfr = mne.Epochs(raw, events, event_id=event_ids,\n",
    "                            tmin=-.5, tmax=1.5, preload=True)  # need longer data segment\n",
    "epochs_for_tfr = ica.apply(epochs_for_tfr, exclude=ica.exclude)\n",
    "epochs_for_tfr.equalize_event_counts(event_ids);  # to speed up things"
   ]
  },
  {
   "cell_type": "code",
   "execution_count": null,
   "metadata": {
    "collapsed": true
   },
   "outputs": [],
   "source": [
    "freqs = np.arange(3, 30)\n",
    "tfr_target = tfr_morlet(epochs_for_tfr[\"target\"], freqs, 3, return_itc=False)\n",
    "tfr_standard = tfr_morlet(epochs_for_tfr[\"standard\"], freqs, 3, return_itc=False)"
   ]
  },
  {
   "cell_type": "markdown",
   "metadata": {},
   "source": [
    "Time-frequency data (single trial or averaged) is stored in TFR objects. These objects behave in many ways like Evoked objects ..."
   ]
  },
  {
   "cell_type": "code",
   "execution_count": null,
   "metadata": {
    "collapsed": true
   },
   "outputs": [],
   "source": [
    "tfr = mne.combine_evoked((tfr_standard, tfr_target), (-.5, .5))\n",
    "tfr.apply_baseline((None, 0))"
   ]
  },
  {
   "cell_type": "markdown",
   "metadata": {},
   "source": [
    "Plotting time-frequencyy activity (event-related spectral perturbations): observe the alpha-band ERD and the time-frequency correlates of the P3 effect."
   ]
  },
  {
   "cell_type": "code",
   "execution_count": null,
   "metadata": {
    "collapsed": true
   },
   "outputs": [],
   "source": [
    "tfr.plot(picks=[27]);"
   ]
  },
  {
   "cell_type": "markdown",
   "metadata": {},
   "source": [
    "## Statistics"
   ]
  },
  {
   "cell_type": "markdown",
   "metadata": {},
   "source": [
    "### Cluster-based permutation stats"
   ]
  },
  {
   "cell_type": "markdown",
   "metadata": {},
   "source": [
    "Exploratory analysis with nonparametric control of the error rate is commonly done with\n",
    "cluster-based permutation tests (i.e., Maris 2012). To cluster across space, we first need a\n",
    "channel adjacency matrix."
   ]
  },
  {
   "cell_type": "code",
   "execution_count": null,
   "metadata": {
    "collapsed": true
   },
   "outputs": [],
   "source": [
    "from mne.channels import find_ch_connectivity\n",
    "connectivity, ch_names = find_ch_connectivity(epochs.info, ch_type='eeg')\n",
    "plt.imshow(connectivity.toarray(), cmap=\"Greys\")"
   ]
  },
  {
   "cell_type": "markdown",
   "metadata": {},
   "source": [
    "Now we need the data in the right shape. Sadly, because the space dimension needs\n",
    "to be last, we need to manually swap the time and space axes."
   ]
  },
  {
   "cell_type": "code",
   "execution_count": null,
   "metadata": {
    "collapsed": true
   },
   "outputs": [],
   "source": [
    "epochs.pick_types(eeg=True)\n",
    "target_epochs, standard_epochs = epochs[\"target\"].get_data(), epochs[\"standard\"].get_data()\n",
    "target_epochs.shape, standard_epochs.shape"
   ]
  },
  {
   "cell_type": "code",
   "execution_count": null,
   "metadata": {
    "collapsed": true
   },
   "outputs": [],
   "source": [
    "target_epochs = target_epochs.swapaxes(1, 2)\n",
    "standard_epochs = standard_epochs.swapaxes(1, 2)\n",
    "target_epochs.shape, standard_epochs.shape"
   ]
  },
  {
   "cell_type": "markdown",
   "metadata": {},
   "source": [
    "MNE has various cluster-based permutation test options. Here, we test for single-trial\n",
    "differences between conditions with `mne.stats.spatio_temporal_cluster_test`.\n",
    "\n",
    "We use threshold-free cluster enhancement to reduce the number of parameters.\n",
    "\n",
    "Warning: the next cell takes a lot of time and computational power."
   ]
  },
  {
   "cell_type": "code",
   "execution_count": null,
   "metadata": {
    "collapsed": true
   },
   "outputs": [],
   "source": [
    "from mne.stats import spatio_temporal_cluster_test\n",
    "\n",
    "tfce = dict(start=.1, step=.3)\n",
    "cluster_stats = spatio_temporal_cluster_test([target_epochs, standard_epochs],\n",
    "                                             threshold=tfce,\n",
    "                                             n_permutations=256,\n",
    "                                             n_jobs=-1,\n",
    "                                             connectivity=connectivity)\n",
    "T_obs, clusters, p_values, _ = cluster_stats"
   ]
  },
  {
   "cell_type": "markdown",
   "metadata": {},
   "source": [
    "Now we can visualise the *t* values over time and space ..."
   ]
  },
  {
   "cell_type": "code",
   "execution_count": null,
   "metadata": {
    "collapsed": true
   },
   "outputs": [],
   "source": [
    "extent = (*epochs.times[[0, -1]], 0, len(epochs.ch_names))\n",
    "im = plt.imshow(T_obs.T, aspect=\"auto\", cmap=\"RdBu_r\",\n",
    "                vmin=-100, vmax=100, extent=extent\n",
    "          )\n",
    "plt.colorbar(im)"
   ]
  },
  {
   "cell_type": "markdown",
   "metadata": {},
   "source": [
    "... and the p-values."
   ]
  },
  {
   "cell_type": "code",
   "execution_count": null,
   "metadata": {
    "collapsed": true
   },
   "outputs": [],
   "source": [
    "plt.hist(p_values)\n",
    "\n",
    "alpha = .01\n",
    "print(sum(p_values < alpha))"
   ]
  },
  {
   "cell_type": "code",
   "execution_count": null,
   "metadata": {
    "collapsed": true
   },
   "outputs": [],
   "source": [
    "plt.imshow(p_values.reshape(T_obs.shape).T < alpha, aspect=\"auto\", cmap=\"Reds\",\n",
    "           extent=extent\n",
    "          )"
   ]
  },
  {
   "cell_type": "markdown",
   "metadata": {},
   "source": [
    "### Parametric stats\n",
    "Sometimes, e.g. because we wish to test a specific hypothesis, cluster-based permutation tests are too much.\n",
    "We can also simply access the data in array form and test with parametric (or nonparametric) tests."
   ]
  },
  {
   "cell_type": "markdown",
   "metadata": {},
   "source": [
    "For this, we first need to identify the spatial and temporal coordinates of an effect we want to test -\n",
    "for example, the N2 at Cz."
   ]
  },
  {
   "cell_type": "code",
   "execution_count": null,
   "metadata": {
    "collapsed": true
   },
   "outputs": [],
   "source": [
    "time_mask = (.2 < epochs.times) & (epochs.times < .25)\n",
    "electrode_pz = epochs.ch_names.index(\"Cz\")\n",
    "plt.plot(time_mask)"
   ]
  },
  {
   "cell_type": "markdown",
   "metadata": {},
   "source": [
    "Now we extract the target data. Reminder: the shape of epochs data is (trial, channel, time)"
   ]
  },
  {
   "cell_type": "code",
   "execution_count": null,
   "metadata": {
    "collapsed": true
   },
   "outputs": [],
   "source": [
    "epochs[\"target\"].get_data().shape"
   ]
  },
  {
   "cell_type": "code",
   "execution_count": null,
   "metadata": {
    "collapsed": true
   },
   "outputs": [],
   "source": [
    "cond_a = epochs[\"target\"].get_data()[:, electrode_pz, time_mask].mean(-1)\n",
    "cond_b = epochs[\"standard\"].get_data()[:, electrode_pz, time_mask].mean(-1)"
   ]
  },
  {
   "cell_type": "markdown",
   "metadata": {},
   "source": [
    "Now we can simply use ordinary tests on these statistics."
   ]
  },
  {
   "cell_type": "code",
   "execution_count": null,
   "metadata": {
    "collapsed": true
   },
   "outputs": [],
   "source": [
    "from scipy.stats import ttest_ind, wilcoxon"
   ]
  },
  {
   "cell_type": "code",
   "execution_count": null,
   "metadata": {
    "collapsed": true
   },
   "outputs": [],
   "source": [
    "ttest_ind(cond_a, cond_b)"
   ]
  },
  {
   "cell_type": "code",
   "execution_count": null,
   "metadata": {
    "collapsed": true
   },
   "outputs": [],
   "source": [
    "wilcoxon(cond_a, cond_b)"
   ]
  },
  {
   "cell_type": "markdown",
   "metadata": {},
   "source": [
    "It is also straight-forward to convert the data into a (pandas) dataframe."
   ]
  },
  {
   "cell_type": "code",
   "execution_count": null,
   "metadata": {
    "collapsed": true
   },
   "outputs": [],
   "source": [
    "df = epochs.to_data_frame()\n",
    "df.head(20)"
   ]
  },
  {
   "cell_type": "code",
   "execution_count": null,
   "metadata": {
    "collapsed": true
   },
   "outputs": [],
   "source": [
    "df_cz = df.query(\"200 < time < 250\")[\"Cz\"].groupby([\"epoch\", \"condition\"]).mean().reset_index()\n",
    "df_cz.head()"
   ]
  },
  {
   "cell_type": "code",
   "execution_count": null,
   "metadata": {
    "collapsed": true
   },
   "outputs": [],
   "source": [
    "import seaborn as sns\n",
    "sns.factorplot(y=\"Cz\", data=df_cz, x=\"condition\")"
   ]
  },
  {
   "cell_type": "code",
   "execution_count": null,
   "metadata": {
    "collapsed": true
   },
   "outputs": [],
   "source": []
  }
 ],
 "metadata": {
  "anaconda-cloud": {},
  "kernelspec": {
   "display_name": "Python [conda env:mne]",
   "language": "python",
   "name": "conda-env-mne-py"
  },
  "language_info": {
   "codemirror_mode": {
    "name": "ipython",
    "version": 2
   },
   "file_extension": ".py",
   "mimetype": "text/x-python",
   "name": "python",
   "nbconvert_exporter": "python",
   "pygments_lexer": "ipython2",
   "version": "2.7.14"
  }
 },
 "nbformat": 4,
 "nbformat_minor": 2
}
